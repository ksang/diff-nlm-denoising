{
 "cells": [
  {
   "cell_type": "code",
   "execution_count": null,
   "id": "18d30ea5",
   "metadata": {},
   "outputs": [],
   "source": [
    "from nlm import NonLocalMeans\n",
    "import torch\n",
    "from torchvision.transforms import ToPILImage\n",
    "from IPython.display import Image\n",
    "import imageio\n",
    "to_img = ToPILImage()"
   ]
  },
  {
   "cell_type": "code",
   "execution_count": null,
   "id": "2def284a",
   "metadata": {},
   "outputs": [],
   "source": [
    "nlm = NonLocalMeans(.3, 7, 15)"
   ]
  },
  {
   "cell_type": "code",
   "execution_count": null,
   "id": "b5c42e76",
   "metadata": {},
   "outputs": [],
   "source": [
    "img = imageio.imread(r\"res/gray.png\")\n",
    "x = torch.from_numpy(img)[None, None] / 255.\n",
    "y = nlm(x)"
   ]
  },
  {
   "cell_type": "code",
   "execution_count": null,
   "id": "0891a1d1",
   "metadata": {},
   "outputs": [],
   "source": [
    "to_img(x[0])"
   ]
  },
  {
   "cell_type": "code",
   "execution_count": null,
   "id": "4d274a88",
   "metadata": {},
   "outputs": [],
   "source": [
    "to_img(y[0])"
   ]
  },
  {
   "cell_type": "code",
   "execution_count": null,
   "id": "d3199be8",
   "metadata": {},
   "outputs": [],
   "source": [
    "img = imageio.imread(r\"res/rgb.png\")\n",
    "x = torch.from_numpy(img).movedim(2, 0)[None] / 255.\n",
    "y = nlm(x)"
   ]
  },
  {
   "cell_type": "code",
   "execution_count": null,
   "id": "2aa9cd66",
   "metadata": {},
   "outputs": [],
   "source": [
    "to_img(x[0])"
   ]
  },
  {
   "cell_type": "code",
   "execution_count": null,
   "id": "8b5c54e6",
   "metadata": {},
   "outputs": [],
   "source": [
    "to_img(y[0])"
   ]
  },
  {
   "cell_type": "code",
   "execution_count": null,
   "id": "4902b771",
   "metadata": {},
   "outputs": [],
   "source": []
  }
 ],
 "metadata": {
  "kernelspec": {
   "display_name": "Python 3 (ipykernel)",
   "language": "python",
   "name": "python3"
  },
  "language_info": {
   "codemirror_mode": {
    "name": "ipython",
    "version": 3
   },
   "file_extension": ".py",
   "mimetype": "text/x-python",
   "name": "python",
   "nbconvert_exporter": "python",
   "pygments_lexer": "ipython3",
   "version": "3.9.7"
  }
 },
 "nbformat": 4,
 "nbformat_minor": 5
}
